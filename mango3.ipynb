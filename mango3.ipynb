{
 "cells": [
  {
   "cell_type": "code",
   "execution_count": 1,
   "metadata": {},
   "outputs": [],
   "source": [
    "#指定要列出所有檔案的目錄\n",
    "mypath=\"C:/芒果/train\""
   ]
  },
  {
   "cell_type": "code",
   "execution_count": 1,
   "metadata": {},
   "outputs": [],
   "source": [
    "import xlrd\n",
    "import pandas as pd\n",
    "#原始檔案jpg\n",
    "#縮小圖片、彩色RGB\n",
    "from os import listdir\n",
    "from os.path import isfile, isdir, join\n",
    "import os\n",
    "import numpy as np\n",
    "import matplotlib.pyplot as plt"
   ]
  },
  {
   "cell_type": "code",
   "execution_count": 2,
   "metadata": {
    "scrolled": true
   },
   "outputs": [
    {
     "data": {
      "text/html": [
       "<div>\n",
       "<style scoped>\n",
       "    .dataframe tbody tr th:only-of-type {\n",
       "        vertical-align: middle;\n",
       "    }\n",
       "\n",
       "    .dataframe tbody tr th {\n",
       "        vertical-align: top;\n",
       "    }\n",
       "\n",
       "    .dataframe thead th {\n",
       "        text-align: right;\n",
       "    }\n",
       "</style>\n",
       "<table border=\"1\" class=\"dataframe\">\n",
       "  <thead>\n",
       "    <tr style=\"text-align: right;\">\n",
       "      <th></th>\n",
       "      <th>ID</th>\n",
       "      <th>label</th>\n",
       "      <th>Unnamed: 2</th>\n",
       "    </tr>\n",
       "  </thead>\n",
       "  <tbody>\n",
       "    <tr>\n",
       "      <td>0</td>\n",
       "      <td>00002.jpg</td>\n",
       "      <td>C</td>\n",
       "      <td>3</td>\n",
       "    </tr>\n",
       "    <tr>\n",
       "      <td>1</td>\n",
       "      <td>00003.jpg</td>\n",
       "      <td>C</td>\n",
       "      <td>3</td>\n",
       "    </tr>\n",
       "    <tr>\n",
       "      <td>2</td>\n",
       "      <td>00004.jpg</td>\n",
       "      <td>B</td>\n",
       "      <td>2</td>\n",
       "    </tr>\n",
       "    <tr>\n",
       "      <td>3</td>\n",
       "      <td>00005.jpg</td>\n",
       "      <td>A</td>\n",
       "      <td>1</td>\n",
       "    </tr>\n",
       "    <tr>\n",
       "      <td>4</td>\n",
       "      <td>00007.jpg</td>\n",
       "      <td>A</td>\n",
       "      <td>1</td>\n",
       "    </tr>\n",
       "  </tbody>\n",
       "</table>\n",
       "</div>"
      ],
      "text/plain": [
       "          ID label  Unnamed: 2\n",
       "0  00002.jpg     C           3\n",
       "1  00003.jpg     C           3\n",
       "2  00004.jpg     B           2\n",
       "3  00005.jpg     A           1\n",
       "4  00007.jpg     A           1"
      ]
     },
     "execution_count": 2,
     "metadata": {},
     "output_type": "execute_result"
    }
   ],
   "source": [
    "df=pd.read_csv('C:/芒果/train_label.csv')\n",
    "df.head()"
   ]
  },
  {
   "cell_type": "code",
   "execution_count": 3,
   "metadata": {},
   "outputs": [],
   "source": [
    "df['label']=df['label'].map({'A':0, 'B':1, 'C':2}).astype(int)"
   ]
  },
  {
   "cell_type": "code",
   "execution_count": 4,
   "metadata": {},
   "outputs": [],
   "source": [
    "train_label=df['label'].values"
   ]
  },
  {
   "cell_type": "code",
   "execution_count": 5,
   "metadata": {},
   "outputs": [
    {
     "data": {
      "text/plain": [
       "(50, 1)"
      ]
     },
     "execution_count": 5,
     "metadata": {},
     "output_type": "execute_result"
    }
   ],
   "source": [
    "train_label.reshape(50,1).shape"
   ]
  },
  {
   "cell_type": "code",
   "execution_count": 6,
   "metadata": {},
   "outputs": [],
   "source": [
    "df=pd.read_csv('C:/芒果/test_label.csv')"
   ]
  },
  {
   "cell_type": "code",
   "execution_count": 7,
   "metadata": {},
   "outputs": [],
   "source": [
    "df['label']=df['label'].map({'A':0, 'B':1, 'C':2}).astype(int)"
   ]
  },
  {
   "cell_type": "code",
   "execution_count": 8,
   "metadata": {},
   "outputs": [],
   "source": [
    "test_label=df['label'].values"
   ]
  },
  {
   "cell_type": "code",
   "execution_count": 9,
   "metadata": {},
   "outputs": [
    {
     "data": {
      "text/plain": [
       "(20, 1)"
      ]
     },
     "execution_count": 9,
     "metadata": {},
     "output_type": "execute_result"
    }
   ],
   "source": [
    "test_label.reshape(20,1).shape"
   ]
  },
  {
   "cell_type": "code",
   "execution_count": 10,
   "metadata": {},
   "outputs": [],
   "source": [
    "#匯入Library\n",
    "from PIL import Image"
   ]
  },
  {
   "cell_type": "code",
   "execution_count": 11,
   "metadata": {},
   "outputs": [],
   "source": [
    "#指定要列出所有檔案的目錄\n",
    "mypath=\"C:/芒果/train2\"#取得所有檔案與子目錄名稱\n",
    "files=listdir(mypath)"
   ]
  },
  {
   "cell_type": "code",
   "execution_count": 12,
   "metadata": {},
   "outputs": [
    {
     "name": "stdout",
     "output_type": "stream",
     "text": [
      "檔案: C:/芒果/train2\\00002.jpg 類型 JPEG (1344, 1008) RGB\n",
      "1 : 00002.jpg   00002   01.jpg   C:/芒果/train2\\01.jpg\n",
      "檔案: C:/芒果/train2\\00003.jpg 類型 JPEG (1088, 816) RGB\n",
      "2 : 00003.jpg   00003   02.jpg   C:/芒果/train2\\02.jpg\n",
      "檔案: C:/芒果/train2\\00004.jpg 類型 JPEG (1344, 1008) RGB\n",
      "3 : 00004.jpg   00004   03.jpg   C:/芒果/train2\\03.jpg\n",
      "檔案: C:/芒果/train2\\00005.jpg 類型 JPEG (1344, 1008) RGB\n",
      "4 : 00005.jpg   00005   04.jpg   C:/芒果/train2\\04.jpg\n",
      "檔案: C:/芒果/train2\\00007.jpg 類型 JPEG (1152, 1536) RGB\n",
      "5 : 00007.jpg   00007   05.jpg   C:/芒果/train2\\05.jpg\n",
      "檔案: C:/芒果/train2\\00008.jpg 類型 JPEG (1344, 1008) RGB\n",
      "6 : 00008.jpg   00008   06.jpg   C:/芒果/train2\\06.jpg\n",
      "檔案: C:/芒果/train2\\00009.jpg 類型 JPEG (1344, 1008) RGB\n",
      "7 : 00009.jpg   00009   07.jpg   C:/芒果/train2\\07.jpg\n",
      "檔案: C:/芒果/train2\\00010.jpg 類型 JPEG (1344, 1008) RGB\n",
      "8 : 00010.jpg   00010   08.jpg   C:/芒果/train2\\08.jpg\n",
      "檔案: C:/芒果/train2\\00012.jpg 類型 JPEG (1152, 1536) RGB\n",
      "9 : 00012.jpg   00012   09.jpg   C:/芒果/train2\\09.jpg\n",
      "檔案: C:/芒果/train2\\00013.jpg 類型 JPEG (1152, 1536) RGB\n",
      "10 : 00013.jpg   00013   010.jpg   C:/芒果/train2\\010.jpg\n",
      "檔案: C:/芒果/train2\\00014.jpg 類型 JPEG (1344, 1008) RGB\n",
      "11 : 00014.jpg   00014   011.jpg   C:/芒果/train2\\011.jpg\n",
      "檔案: C:/芒果/train2\\00015.jpg 類型 JPEG (1536, 1152) RGB\n",
      "12 : 00015.jpg   00015   012.jpg   C:/芒果/train2\\012.jpg\n",
      "檔案: C:/芒果/train2\\00017.jpg 類型 JPEG (1344, 1008) RGB\n",
      "13 : 00017.jpg   00017   013.jpg   C:/芒果/train2\\013.jpg\n",
      "檔案: C:/芒果/train2\\00018.jpg 類型 JPEG (1344, 1008) RGB\n",
      "14 : 00018.jpg   00018   014.jpg   C:/芒果/train2\\014.jpg\n",
      "檔案: C:/芒果/train2\\00019.jpg 類型 JPEG (1344, 1008) RGB\n",
      "15 : 00019.jpg   00019   015.jpg   C:/芒果/train2\\015.jpg\n",
      "檔案: C:/芒果/train2\\00020.jpg 類型 JPEG (1088, 816) RGB\n",
      "16 : 00020.jpg   00020   016.jpg   C:/芒果/train2\\016.jpg\n",
      "檔案: C:/芒果/train2\\00021.jpg 類型 JPEG (1152, 1536) RGB\n",
      "17 : 00021.jpg   00021   017.jpg   C:/芒果/train2\\017.jpg\n",
      "檔案: C:/芒果/train2\\00022.jpg 類型 JPEG (1344, 1008) RGB\n",
      "18 : 00022.jpg   00022   018.jpg   C:/芒果/train2\\018.jpg\n",
      "檔案: C:/芒果/train2\\00023.jpg 類型 JPEG (1088, 816) RGB\n",
      "19 : 00023.jpg   00023   019.jpg   C:/芒果/train2\\019.jpg\n",
      "檔案: C:/芒果/train2\\00024.jpg 類型 JPEG (1344, 1008) RGB\n",
      "20 : 00024.jpg   00024   020.jpg   C:/芒果/train2\\020.jpg\n",
      "檔案: C:/芒果/train2\\00026.jpg 類型 JPEG (1344, 1008) RGB\n",
      "21 : 00026.jpg   00026   021.jpg   C:/芒果/train2\\021.jpg\n",
      "檔案: C:/芒果/train2\\00029.jpg 類型 JPEG (1344, 1008) RGB\n",
      "22 : 00029.jpg   00029   022.jpg   C:/芒果/train2\\022.jpg\n",
      "檔案: C:/芒果/train2\\00030.jpg 類型 JPEG (1344, 1008) RGB\n",
      "23 : 00030.jpg   00030   023.jpg   C:/芒果/train2\\023.jpg\n",
      "檔案: C:/芒果/train2\\00031.jpg 類型 JPEG (1088, 816) RGB\n",
      "24 : 00031.jpg   00031   024.jpg   C:/芒果/train2\\024.jpg\n",
      "檔案: C:/芒果/train2\\00032.jpg 類型 JPEG (1280, 720) RGB\n",
      "25 : 00032.jpg   00032   025.jpg   C:/芒果/train2\\025.jpg\n",
      "檔案: C:/芒果/train2\\00036.jpg 類型 JPEG (1344, 1008) RGB\n",
      "26 : 00036.jpg   00036   026.jpg   C:/芒果/train2\\026.jpg\n",
      "檔案: C:/芒果/train2\\00037.jpg 類型 JPEG (1344, 1008) RGB\n",
      "27 : 00037.jpg   00037   027.jpg   C:/芒果/train2\\027.jpg\n",
      "檔案: C:/芒果/train2\\00038.jpg 類型 JPEG (1088, 816) RGB\n",
      "28 : 00038.jpg   00038   028.jpg   C:/芒果/train2\\028.jpg\n",
      "檔案: C:/芒果/train2\\00039.jpg 類型 JPEG (1088, 816) RGB\n",
      "29 : 00039.jpg   00039   029.jpg   C:/芒果/train2\\029.jpg\n",
      "檔案: C:/芒果/train2\\00040.jpg 類型 JPEG (1344, 1008) RGB\n",
      "30 : 00040.jpg   00040   030.jpg   C:/芒果/train2\\030.jpg\n",
      "檔案: C:/芒果/train2\\00041.jpg 類型 JPEG (1344, 1008) RGB\n",
      "31 : 00041.jpg   00041   031.jpg   C:/芒果/train2\\031.jpg\n",
      "檔案: C:/芒果/train2\\00044.jpg 類型 JPEG (1152, 1536) RGB\n",
      "32 : 00044.jpg   00044   032.jpg   C:/芒果/train2\\032.jpg\n",
      "檔案: C:/芒果/train2\\00045.jpg 類型 JPEG (1152, 1536) RGB\n",
      "33 : 00045.jpg   00045   033.jpg   C:/芒果/train2\\033.jpg\n",
      "檔案: C:/芒果/train2\\00048.jpg 類型 JPEG (1344, 1008) RGB\n",
      "34 : 00048.jpg   00048   034.jpg   C:/芒果/train2\\034.jpg\n",
      "檔案: C:/芒果/train2\\00049.jpg 類型 JPEG (1152, 1536) RGB\n",
      "35 : 00049.jpg   00049   035.jpg   C:/芒果/train2\\035.jpg\n",
      "檔案: C:/芒果/train2\\00053.jpg 類型 JPEG (1344, 1008) RGB\n",
      "36 : 00053.jpg   00053   036.jpg   C:/芒果/train2\\036.jpg\n",
      "檔案: C:/芒果/train2\\00054.jpg 類型 JPEG (1344, 1008) RGB\n",
      "37 : 00054.jpg   00054   037.jpg   C:/芒果/train2\\037.jpg\n",
      "檔案: C:/芒果/train2\\00055.jpg 類型 JPEG (1152, 1536) RGB\n",
      "38 : 00055.jpg   00055   038.jpg   C:/芒果/train2\\038.jpg\n",
      "檔案: C:/芒果/train2\\00056.jpg 類型 JPEG (1280, 720) RGB\n",
      "39 : 00056.jpg   00056   039.jpg   C:/芒果/train2\\039.jpg\n",
      "檔案: C:/芒果/train2\\00057.jpg 類型 JPEG (1344, 1008) RGB\n",
      "40 : 00057.jpg   00057   040.jpg   C:/芒果/train2\\040.jpg\n",
      "檔案: C:/芒果/train2\\00058.jpg 類型 JPEG (1152, 1536) RGB\n",
      "41 : 00058.jpg   00058   041.jpg   C:/芒果/train2\\041.jpg\n",
      "檔案: C:/芒果/train2\\00061.jpg 類型 JPEG (1344, 1008) RGB\n",
      "42 : 00061.jpg   00061   042.jpg   C:/芒果/train2\\042.jpg\n",
      "檔案: C:/芒果/train2\\00062.jpg 類型 JPEG (1088, 816) RGB\n",
      "43 : 00062.jpg   00062   043.jpg   C:/芒果/train2\\043.jpg\n",
      "檔案: C:/芒果/train2\\00063.jpg 類型 JPEG (1280, 720) RGB\n",
      "44 : 00063.jpg   00063   044.jpg   C:/芒果/train2\\044.jpg\n",
      "檔案: C:/芒果/train2\\00064.jpg 類型 JPEG (1088, 816) RGB\n",
      "45 : 00064.jpg   00064   045.jpg   C:/芒果/train2\\045.jpg\n",
      "檔案: C:/芒果/train2\\00065.jpg 類型 JPEG (1344, 1008) RGB\n",
      "46 : 00065.jpg   00065   046.jpg   C:/芒果/train2\\046.jpg\n",
      "檔案: C:/芒果/train2\\00067.jpg 類型 JPEG (1280, 720) RGB\n",
      "47 : 00067.jpg   00067   047.jpg   C:/芒果/train2\\047.jpg\n",
      "檔案: C:/芒果/train2\\00068.jpg 類型 JPEG (1536, 1152) RGB\n",
      "48 : 00068.jpg   00068   048.jpg   C:/芒果/train2\\048.jpg\n",
      "檔案: C:/芒果/train2\\00071.jpg 類型 JPEG (1088, 816) RGB\n",
      "49 : 00071.jpg   00071   049.jpg   C:/芒果/train2\\049.jpg\n",
      "檔案: C:/芒果/train2\\00072.jpg 類型 JPEG (1152, 1536) RGB\n",
      "50 : 00072.jpg   00072   050.jpg   C:/芒果/train2\\050.jpg\n"
     ]
    }
   ],
   "source": [
    "#以迴圈處裡train image\n",
    "i=0\n",
    "Lablestr=''\n",
    "for f in files:\n",
    "#產生檔案的絕對路徑\n",
    "    fullpath=join(mypath,f)\n",
    "    #判斷fullpath是檔案還是目錄\n",
    "    if isfile(fullpath) & (os.path.splitext(f)[1]=='.jpg'):\n",
    "        #print(\"檔案\",f)\n",
    "#開啟\n",
    "        im=Image.open(fullpath)\n",
    "#顯示原圖片大小(像素)\n",
    "        print(\"檔案:\",fullpath,\"類型\",im.format,im.size,im.mode)\n",
    "#變更大小(像素)\n",
    "        nim=im.resize((28,28),Image.BILINEAR)\n",
    "#灰階圖檔\n",
    "        grey_image=nim.convert('RGB')\n",
    "#檔名的兩個字元為label,E1,1為標籤\n",
    "        label=os.path.splitext(f)[0][1]\n",
    "#新檔名(標籤+序號)，副檔名(jpg)\n",
    "        filenameNew=label+str(i+1)+\".jpg\"\n",
    "#完整檔名(path+filename)\n",
    "        pathfilenameNew=join(mypath,filenameNew)\n",
    "        print(i+1,':',f,' ',os.path.splitext(f)[0],' ',filenameNew,' ',pathfilenameNew)\n",
    "#另存新檔\n",
    "        grey_image.save(pathfilenameNew)\n",
    "#記錄圖檔的標籤，存成字串\n",
    "        if(Lablestr=='') :\n",
    "            Lablestr=str(label)\n",
    "        else :\n",
    "            Lablestr=Lablestr+','+str(label)\n",
    "            \n",
    "            \n",
    "        i=i+1\n",
    "        \n",
    "    elif isdir(fullpath):\n",
    "        print(\"目錄:\",f)"
   ]
  },
  {
   "cell_type": "code",
   "execution_count": 13,
   "metadata": {},
   "outputs": [],
   "source": [
    "#指定要列出所有檔案的目錄 test image\n",
    "mypath2=\"C:/芒果/test2\"\n",
    "#取得所有檔案與子目錄名稱\n",
    "files=listdir(mypath2)"
   ]
  },
  {
   "cell_type": "code",
   "execution_count": 14,
   "metadata": {},
   "outputs": [
    {
     "name": "stdout",
     "output_type": "stream",
     "text": [
      "檔案: C:/芒果/test2\\00027.jpg 類型 JPEG (1152, 1536) RGB\n",
      "1 : 00027.jpg   00027   01.jpg   C:/芒果/test2\\01.jpg\n",
      "檔案: C:/芒果/test2\\00033.jpg 類型 JPEG (1344, 1008) RGB\n",
      "2 : 00033.jpg   00033   02.jpg   C:/芒果/test2\\02.jpg\n",
      "檔案: C:/芒果/test2\\00047.jpg 類型 JPEG (1088, 816) RGB\n",
      "3 : 00047.jpg   00047   03.jpg   C:/芒果/test2\\03.jpg\n",
      "檔案: C:/芒果/test2\\00050.jpg 類型 JPEG (1344, 1008) RGB\n",
      "4 : 00050.jpg   00050   04.jpg   C:/芒果/test2\\04.jpg\n",
      "檔案: C:/芒果/test2\\00051.jpg 類型 JPEG (1088, 816) RGB\n",
      "5 : 00051.jpg   00051   05.jpg   C:/芒果/test2\\05.jpg\n",
      "檔案: C:/芒果/test2\\00052.jpg 類型 JPEG (1152, 1536) RGB\n",
      "6 : 00052.jpg   00052   06.jpg   C:/芒果/test2\\06.jpg\n",
      "檔案: C:/芒果/test2\\00059.jpg 類型 JPEG (1152, 1536) RGB\n",
      "7 : 00059.jpg   00059   07.jpg   C:/芒果/test2\\07.jpg\n",
      "檔案: C:/芒果/test2\\00060.jpg 類型 JPEG (1536, 1152) RGB\n",
      "8 : 00060.jpg   00060   08.jpg   C:/芒果/test2\\08.jpg\n",
      "檔案: C:/芒果/test2\\00069.jpg 類型 JPEG (1344, 1008) RGB\n",
      "9 : 00069.jpg   00069   09.jpg   C:/芒果/test2\\09.jpg\n",
      "檔案: C:/芒果/test2\\00070.jpg 類型 JPEG (1344, 1008) RGB\n",
      "10 : 00070.jpg   00070   010.jpg   C:/芒果/test2\\010.jpg\n",
      "檔案: C:/芒果/test2\\00073.jpg 類型 JPEG (1344, 1008) RGB\n",
      "11 : 00073.jpg   00073   011.jpg   C:/芒果/test2\\011.jpg\n",
      "檔案: C:/芒果/test2\\00078.jpg 類型 JPEG (1536, 1152) RGB\n",
      "12 : 00078.jpg   00078   012.jpg   C:/芒果/test2\\012.jpg\n",
      "檔案: C:/芒果/test2\\00082.jpg 類型 JPEG (1088, 816) RGB\n",
      "13 : 00082.jpg   00082   013.jpg   C:/芒果/test2\\013.jpg\n",
      "檔案: C:/芒果/test2\\00111.jpg 類型 JPEG (1344, 1008) RGB\n",
      "14 : 00111.jpg   00111   014.jpg   C:/芒果/test2\\014.jpg\n",
      "檔案: C:/芒果/test2\\00119.jpg 類型 JPEG (1344, 1008) RGB\n",
      "15 : 00119.jpg   00119   015.jpg   C:/芒果/test2\\015.jpg\n",
      "檔案: C:/芒果/test2\\00129.jpg 類型 JPEG (1088, 816) RGB\n",
      "16 : 00129.jpg   00129   016.jpg   C:/芒果/test2\\016.jpg\n",
      "檔案: C:/芒果/test2\\00130.jpg 類型 JPEG (1280, 720) RGB\n",
      "17 : 00130.jpg   00130   017.jpg   C:/芒果/test2\\017.jpg\n",
      "檔案: C:/芒果/test2\\00141.jpg 類型 JPEG (1344, 1008) RGB\n",
      "18 : 00141.jpg   00141   018.jpg   C:/芒果/test2\\018.jpg\n",
      "檔案: C:/芒果/test2\\00161.jpg 類型 JPEG (1344, 1008) RGB\n",
      "19 : 00161.jpg   00161   019.jpg   C:/芒果/test2\\019.jpg\n",
      "檔案: C:/芒果/test2\\00162.jpg 類型 JPEG (1536, 1152) RGB\n",
      "20 : 00162.jpg   00162   020.jpg   C:/芒果/test2\\020.jpg\n"
     ]
    }
   ],
   "source": [
    "#以迴圈處裡train image\n",
    "i=0\n",
    "Lablestr=''\n",
    "for f in files:\n",
    "#產生檔案的絕對路徑\n",
    "    fullpath=join(mypath2,f)\n",
    "    #判斷fullpath是檔案還是目錄\n",
    "    if isfile(fullpath) & (os.path.splitext(f)[1]=='.jpg'):\n",
    "        #print(\"檔案\",f)\n",
    "#開啟\n",
    "        im=Image.open(fullpath)\n",
    "#顯示原圖片大小(像素)\n",
    "        print(\"檔案:\",fullpath,\"類型\",im.format,im.size,im.mode)\n",
    "#變更大小(像素)\n",
    "        nim=im.resize((28,28),Image.BILINEAR)\n",
    "#灰階圖檔\n",
    "        grey_image=nim.convert('RGB')\n",
    "#檔名的兩個字元為label,E1,1為標籤\n",
    "        label=os.path.splitext(f)[0][1]\n",
    "#新檔名(標籤+序號)，副檔名(jpg)\n",
    "        filenameNew=label+str(i+1)+\".jpg\"\n",
    "#完整檔名(path+filename)\n",
    "        pathfilenameNew=join(mypath2,filenameNew)\n",
    "        print(i+1,':',f,' ',os.path.splitext(f)[0],' ',filenameNew,' ',pathfilenameNew)\n",
    "#另存新檔\n",
    "        grey_image.save(pathfilenameNew)\n",
    "#記錄圖檔的標籤，存成字串\n",
    "        if(Lablestr=='') :\n",
    "            Lablestr=str(label)\n",
    "        else :\n",
    "            Lablestr=Lablestr+','+str(label)\n",
    "            \n",
    "            \n",
    "        i=i+1\n",
    "        \n",
    "    elif isdir(fullpath):\n",
    "        print(\"目錄:\",f)\n",
    "    "
   ]
  },
  {
   "cell_type": "code",
   "execution_count": 15,
   "metadata": {},
   "outputs": [],
   "source": [
    "def read_image(img_name):\n",
    "    im=Image.open(img_name).convert('RGB')\n",
    "    data=np.array(im)\n",
    "    return data\n",
    "images=[]\n",
    "for fn in os.listdir('C:/芒果/train3'):\n",
    "    if fn.endswith('.jpg'):\n",
    "        fd=os.path.join('C:/芒果/train3',fn)\n",
    "        images.append(read_image(fd))  #數組添加值"
   ]
  },
  {
   "cell_type": "code",
   "execution_count": 16,
   "metadata": {},
   "outputs": [],
   "source": [
    "test=[]\n",
    "for fn in os.listdir('C:/芒果/test3'):\n",
    "    if fn.endswith('.jpg'):\n",
    "        fd=os.path.join('C:/芒果/test3',fn)\n",
    "        test.append(read_image(fd))  #數組添加值"
   ]
  },
  {
   "cell_type": "code",
   "execution_count": 17,
   "metadata": {},
   "outputs": [
    {
     "data": {
      "text/plain": [
       "(50, 28, 28, 3)"
      ]
     },
     "execution_count": 17,
     "metadata": {},
     "output_type": "execute_result"
    }
   ],
   "source": [
    "x=np.array(images)  #轉換為numpy數組\n",
    "x.shape"
   ]
  },
  {
   "cell_type": "code",
   "execution_count": 18,
   "metadata": {},
   "outputs": [
    {
     "data": {
      "text/plain": [
       "(20, 28, 28, 3)"
      ]
     },
     "execution_count": 18,
     "metadata": {},
     "output_type": "execute_result"
    }
   ],
   "source": [
    "y=np.array(test)\n",
    "y.shape"
   ]
  },
  {
   "cell_type": "code",
   "execution_count": 19,
   "metadata": {},
   "outputs": [],
   "source": [
    "x_img_train_normalize=x/255\n",
    "x_img_test_normalize=y/255 "
   ]
  },
  {
   "cell_type": "code",
   "execution_count": 20,
   "metadata": {},
   "outputs": [
    {
     "name": "stderr",
     "output_type": "stream",
     "text": [
      "Using TensorFlow backend.\n"
     ]
    }
   ],
   "source": [
    "from keras.utils import np_utils    #label onehot coding轉換\n",
    "y_label_train_onehot=np_utils.to_categorical(train_label)"
   ]
  },
  {
   "cell_type": "code",
   "execution_count": 21,
   "metadata": {},
   "outputs": [],
   "source": [
    "y_label_test_onehot=np_utils.to_categorical(test_label)"
   ]
  },
  {
   "cell_type": "code",
   "execution_count": 22,
   "metadata": {},
   "outputs": [
    {
     "data": {
      "text/plain": [
       "(50, 3)"
      ]
     },
     "execution_count": 22,
     "metadata": {},
     "output_type": "execute_result"
    }
   ],
   "source": [
    "y_label_train_onehot.shape"
   ]
  },
  {
   "cell_type": "code",
   "execution_count": 23,
   "metadata": {},
   "outputs": [
    {
     "data": {
      "text/plain": [
       "(20, 3)"
      ]
     },
     "execution_count": 23,
     "metadata": {},
     "output_type": "execute_result"
    }
   ],
   "source": [
    "y_label_test_onehot.shape"
   ]
  },
  {
   "cell_type": "code",
   "execution_count": 38,
   "metadata": {},
   "outputs": [],
   "source": [
    "from keras.models import Sequential\n",
    "from keras.layers import Dense,Dropout,Activation,Flatten\n",
    "from keras.layers import Conv2D,MaxPooling2D,ZeroPadding2D\n",
    "#建立模型\n",
    "model=Sequential()"
   ]
  },
  {
   "cell_type": "code",
   "execution_count": 39,
   "metadata": {},
   "outputs": [],
   "source": [
    "#建立16個濾鏡，每個濾鏡5*5，產生16個特徵圖，padding代表維持影像大小不變\n",
    "model.add(Conv2D(filters=16,kernel_size=(5,5),input_shape=(28,28,3),activation='relu',padding='same'))"
   ]
  },
  {
   "cell_type": "code",
   "execution_count": 40,
   "metadata": {},
   "outputs": [],
   "source": [
    "#池化層縮減取樣，將16個28*28變16個14*14的影像\n",
    "model.add(MaxPooling2D(pool_size=(2,2)))"
   ]
  },
  {
   "cell_type": "code",
   "execution_count": 41,
   "metadata": {},
   "outputs": [],
   "source": [
    "#建立36個濾鏡，每個濾鏡5*5，產生36個特徵圖，padding代表維持影像大小不變\n",
    "model.add(Conv2D(filters=36,kernel_size=(5,5),activation='relu',padding='same'))"
   ]
  },
  {
   "cell_type": "code",
   "execution_count": 42,
   "metadata": {},
   "outputs": [],
   "source": [
    "#池化層縮減取樣，將36個28*28變36個14*14的影像\n",
    "model.add(MaxPooling2D(pool_size=(2,2)))"
   ]
  },
  {
   "cell_type": "code",
   "execution_count": 43,
   "metadata": {},
   "outputs": [],
   "source": [
    "#每次迭代時，放棄25%的神經元，避免overfitting\n",
    "model.add(Dropout(rate=0.25))"
   ]
  },
  {
   "cell_type": "code",
   "execution_count": 44,
   "metadata": {},
   "outputs": [],
   "source": [
    "#建立平坦層，將36個7*7的影像變成36*7*7=1764個float數字，對應到1764個神經元\n",
    "model.add(Flatten())"
   ]
  },
  {
   "cell_type": "code",
   "execution_count": 45,
   "metadata": {},
   "outputs": [],
   "source": [
    "#建立隱藏層，有128個神經元\n",
    "model.add(Dense(128,activation='relu'))"
   ]
  },
  {
   "cell_type": "code",
   "execution_count": 46,
   "metadata": {},
   "outputs": [],
   "source": [
    "#每次迭代時，放棄25%的神經元，避免overfitting\n",
    "model.add(Dropout(rate=0.5))"
   ]
  },
  {
   "cell_type": "code",
   "execution_count": 47,
   "metadata": {},
   "outputs": [],
   "source": [
    "#建立隱藏層，有128個神經元111\n",
    "model.add(Dense(128,activation='relu'))"
   ]
  },
  {
   "cell_type": "code",
   "execution_count": 48,
   "metadata": {},
   "outputs": [],
   "source": [
    "#每次迭代時，放棄25%的神經元，避免overfitting111\n",
    "model.add(Dropout(rate=0.5))"
   ]
  },
  {
   "cell_type": "code",
   "execution_count": 49,
   "metadata": {},
   "outputs": [],
   "source": [
    "#建立輸出層，共有3個神經元，對應到3種不同種類的機率\n",
    "model.add(Dense(3,activation='softmax'))"
   ]
  },
  {
   "cell_type": "code",
   "execution_count": 50,
   "metadata": {
    "scrolled": true
   },
   "outputs": [
    {
     "name": "stdout",
     "output_type": "stream",
     "text": [
      "_________________________________________________________________\n",
      "Layer (type)                 Output Shape              Param #   \n",
      "=================================================================\n",
      "conv2d_5 (Conv2D)            (None, 28, 28, 16)        1216      \n",
      "_________________________________________________________________\n",
      "max_pooling2d_4 (MaxPooling2 (None, 14, 14, 16)        0         \n",
      "_________________________________________________________________\n",
      "conv2d_6 (Conv2D)            (None, 14, 14, 36)        14436     \n",
      "_________________________________________________________________\n",
      "max_pooling2d_5 (MaxPooling2 (None, 7, 7, 36)          0         \n",
      "_________________________________________________________________\n",
      "dropout_3 (Dropout)          (None, 7, 7, 36)          0         \n",
      "_________________________________________________________________\n",
      "flatten_4 (Flatten)          (None, 1764)              0         \n",
      "_________________________________________________________________\n",
      "dense_1 (Dense)              (None, 128)               225920    \n",
      "_________________________________________________________________\n",
      "dropout_4 (Dropout)          (None, 128)               0         \n",
      "_________________________________________________________________\n",
      "dense_2 (Dense)              (None, 128)               16512     \n",
      "_________________________________________________________________\n",
      "dropout_5 (Dropout)          (None, 128)               0         \n",
      "_________________________________________________________________\n",
      "dense_3 (Dense)              (None, 3)                 387       \n",
      "=================================================================\n",
      "Total params: 258,471\n",
      "Trainable params: 258,471\n",
      "Non-trainable params: 0\n",
      "_________________________________________________________________\n",
      "None\n"
     ]
    }
   ],
   "source": [
    "print(model.summary())"
   ]
  },
  {
   "cell_type": "code",
   "execution_count": 53,
   "metadata": {},
   "outputs": [],
   "source": [
    "#定義訓練方式\n",
    "model.compile(loss='categorical_crossentropy',optimizer='adam',metrics=['accuracy'])"
   ]
  },
  {
   "cell_type": "code",
   "execution_count": 57,
   "metadata": {},
   "outputs": [
    {
     "name": "stdout",
     "output_type": "stream",
     "text": [
      "Train on 40 samples, validate on 10 samples\n",
      "Epoch 1/10\n",
      " - 0s - loss: 0.8740 - acc: 0.6000 - val_loss: 1.1221 - val_acc: 0.3000\n",
      "Epoch 2/10\n",
      " - 0s - loss: 0.8910 - acc: 0.6500 - val_loss: 1.1115 - val_acc: 0.4000\n",
      "Epoch 3/10\n",
      " - 0s - loss: 0.9001 - acc: 0.5750 - val_loss: 1.1098 - val_acc: 0.4000\n",
      "Epoch 4/10\n",
      " - 0s - loss: 0.8632 - acc: 0.5750 - val_loss: 1.1381 - val_acc: 0.3000\n",
      "Epoch 5/10\n",
      " - 0s - loss: 0.7818 - acc: 0.7250 - val_loss: 1.1907 - val_acc: 0.4000\n",
      "Epoch 6/10\n",
      " - 0s - loss: 0.8643 - acc: 0.6500 - val_loss: 1.2196 - val_acc: 0.3000\n",
      "Epoch 7/10\n",
      " - 0s - loss: 0.8437 - acc: 0.5750 - val_loss: 1.2277 - val_acc: 0.3000\n",
      "Epoch 8/10\n",
      " - 0s - loss: 0.8899 - acc: 0.5750 - val_loss: 1.1891 - val_acc: 0.3000\n",
      "Epoch 9/10\n",
      " - 0s - loss: 0.9354 - acc: 0.5250 - val_loss: 1.1780 - val_acc: 0.3000\n",
      "Epoch 10/10\n",
      " - 0s - loss: 0.7770 - acc: 0.6750 - val_loss: 1.1857 - val_acc: 0.4000\n"
     ]
    }
   ],
   "source": [
    "train_history=model.fit(x_img_train_normalize,y_label_train_onehot,validation_split=0.2,epochs=10,batch_size=50,verbose=2)#callbacks=[TB,CB]"
   ]
  },
  {
   "cell_type": "code",
   "execution_count": 58,
   "metadata": {},
   "outputs": [
    {
     "data": {
      "text/plain": [
       "0.30000001192092896"
      ]
     },
     "execution_count": 58,
     "metadata": {},
     "output_type": "execute_result"
    }
   ],
   "source": [
    "#評估模型準確率\n",
    "scores=model.evaluate(x_img_test_normalize,y_label_test_onehot,verbose=0)\n",
    "scores[1]"
   ]
  },
  {
   "cell_type": "code",
   "execution_count": 59,
   "metadata": {},
   "outputs": [],
   "source": [
    "#執行預測\n",
    "prediction=model.predict_classes(x_img_test_normalize)"
   ]
  },
  {
   "cell_type": "code",
   "execution_count": 60,
   "metadata": {},
   "outputs": [
    {
     "data": {
      "text/plain": [
       "array([0, 1, 1, 2, 0, 1, 2, 2, 2, 1, 1, 1, 2, 2, 1, 0, 0, 2, 2, 1],\n",
       "      dtype=int64)"
      ]
     },
     "execution_count": 60,
     "metadata": {},
     "output_type": "execute_result"
    }
   ],
   "source": [
    "prediction"
   ]
  },
  {
   "cell_type": "code",
   "execution_count": 61,
   "metadata": {},
   "outputs": [],
   "source": [
    "label_dict={1:\"output\",2:\"domestic\",3:\"process\"}\n",
    "def plot_images_label_prediction(images,labels,prediction,idx,num=20):\n",
    "    fig=plt.gcf()\n",
    "    fig.set_size_inches(12,14)\n",
    "    if num>20: num=20\n",
    "    for i in range(0, num):\n",
    "        ax=plt.subplot(5,5,1+i)\n",
    "        ax.imshow(images[idx], cmap='binary')\n",
    "        title=\"label=\"+str(labels[idx])\n",
    "        if len(prediction)>0:\n",
    "            title+=\",predict=\"+str(prediction[idx])\n",
    "        ax.set_title(title,fontsize=10)\n",
    "        ax.set_xticks([]);ax.set_yticks([])\n",
    "        idx+=1\n",
    "    plt.show()"
   ]
  },
  {
   "cell_type": "code",
   "execution_count": 62,
   "metadata": {},
   "outputs": [
    {
     "data": {
      "image/png": "[encoded data removed]",
      "text/plain": [
       "<Figure size 864x1008 with 10 Axes>"
      ]
     },
     "metadata": {},
     "output_type": "display_data"
    }
   ],
   "source": [
    "#顯示預測結果\n",
    "plot_images_label_prediction(y,test_label,prediction,0,10)"
   ]
  },
  {
   "cell_type": "code",
   "execution_count": 63,
   "metadata": {},
   "outputs": [
    {
     "data": {
      "text/html": [
       "<div>\n",
       "<style scoped>\n",
       "    .dataframe tbody tr th:only-of-type {\n",
       "        vertical-align: middle;\n",
       "    }\n",
       "\n",
       "    .dataframe tbody tr th {\n",
       "        vertical-align: top;\n",
       "    }\n",
       "\n",
       "    .dataframe thead th {\n",
       "        text-align: right;\n",
       "    }\n",
       "</style>\n",
       "<table border=\"1\" class=\"dataframe\">\n",
       "  <thead>\n",
       "    <tr style=\"text-align: right;\">\n",
       "      <th>predict</th>\n",
       "      <th>0</th>\n",
       "      <th>1</th>\n",
       "      <th>2</th>\n",
       "    </tr>\n",
       "    <tr>\n",
       "      <th>label</th>\n",
       "      <th></th>\n",
       "      <th></th>\n",
       "      <th></th>\n",
       "    </tr>\n",
       "  </thead>\n",
       "  <tbody>\n",
       "    <tr>\n",
       "      <td>0</td>\n",
       "      <td>0</td>\n",
       "      <td>3</td>\n",
       "      <td>3</td>\n",
       "    </tr>\n",
       "    <tr>\n",
       "      <td>1</td>\n",
       "      <td>3</td>\n",
       "      <td>4</td>\n",
       "      <td>3</td>\n",
       "    </tr>\n",
       "    <tr>\n",
       "      <td>2</td>\n",
       "      <td>1</td>\n",
       "      <td>1</td>\n",
       "      <td>2</td>\n",
       "    </tr>\n",
       "  </tbody>\n",
       "</table>\n",
       "</div>"
      ],
      "text/plain": [
       "predict  0  1  2\n",
       "label           \n",
       "0        0  3  3\n",
       "1        3  4  3\n",
       "2        1  1  2"
      ]
     },
     "execution_count": 63,
     "metadata": {},
     "output_type": "execute_result"
    }
   ],
   "source": [
    "#建立矛盾矩陣\n",
    "import pandas as pd\n",
    "pd.crosstab(test_label,prediction,rownames=['label'], colnames=['predict'])"
   ]
  },
  {
   "cell_type": "code",
   "execution_count": null,
   "metadata": {},
   "outputs": [],
   "source": []
  },
  {
   "cell_type": "code",
   "execution_count": null,
   "metadata": {},
   "outputs": [],
   "source": []
  }
 ],
 "metadata": {
  "kernelspec": {
   "display_name": "Python 3",
   "language": "python",
   "name": "python3"
  },
  "language_info": {
   "codemirror_mode": {
    "name": "ipython",
    "version": 3
   },
   "file_extension": ".py",
   "mimetype": "text/x-python",
   "name": "python",
   "nbconvert_exporter": "python",
   "pygments_lexer": "ipython3",
   "version": "3.6.8"
  }
 },
 "nbformat": 4,
 "nbformat_minor": 2
}
